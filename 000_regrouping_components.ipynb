{
 "cells": [
  {
   "cell_type": "code",
   "execution_count": 19,
   "metadata": {},
   "outputs": [
    {
     "data": {
      "text/plain": [
       "([PosixPath('/home/peterr/parlamint/HR/6_text.txt'),\n",
       "  PosixPath('/home/peterr/parlamint/HR/7_text.txt'),\n",
       "  PosixPath('/home/peterr/parlamint/HR/8_text.txt'),\n",
       "  PosixPath('/home/peterr/parlamint/HR/10_text.txt'),\n",
       "  PosixPath('/home/peterr/parlamint/HR/5_text.txt'),\n",
       "  PosixPath('/home/peterr/parlamint/HR/9_text.txt')],\n",
       " ['/home/peterr/parlamint/HR/6_meta.tsv',\n",
       "  '/home/peterr/parlamint/HR/7_meta.tsv',\n",
       "  '/home/peterr/parlamint/HR/8_meta.tsv',\n",
       "  '/home/peterr/parlamint/HR/10_meta.tsv',\n",
       "  '/home/peterr/parlamint/HR/5_meta.tsv',\n",
       "  '/home/peterr/parlamint/HR/9_meta.tsv'])"
      ]
     },
     "execution_count": 19,
     "metadata": {},
     "output_type": "execute_result"
    }
   ],
   "source": [
    "import pandas as pd\n",
    "from pathlib import Path\n",
    "from utils import parse_text_file, parse_meta_file\n",
    "lang = \"hr\"\n",
    "datadir = \"HR\"\n",
    "\n",
    "txts = list(Path(\"~/parlamint/\"+datadir).expanduser().glob(\"*_text*\"))\n",
    "textdf = pd.concat([\n",
    "    parse_text_file(i) for i in txts\n",
    "])\n",
    "metas =[str(i).replace(\"_text.txt\", \"_meta.tsv\") for i in txts]\n",
    "metadf = pd.concat([\n",
    "    parse_meta_file(i) for i in metas\n",
    "])\n",
    "\n"
   ]
  },
  {
   "cell_type": "code",
   "execution_count": 26,
   "metadata": {},
   "outputs": [
    {
     "data": {
      "text/html": [
       "<div>\n",
       "<style scoped>\n",
       "    .dataframe tbody tr th:only-of-type {\n",
       "        vertical-align: middle;\n",
       "    }\n",
       "\n",
       "    .dataframe tbody tr th {\n",
       "        vertical-align: top;\n",
       "    }\n",
       "\n",
       "    .dataframe thead th {\n",
       "        text-align: right;\n",
       "    }\n",
       "</style>\n",
       "<table border=\"1\" class=\"dataframe\">\n",
       "  <thead>\n",
       "    <tr style=\"text-align: right;\">\n",
       "      <th></th>\n",
       "      <th>ID</th>\n",
       "      <th>Text</th>\n",
       "      <th>Title</th>\n",
       "      <th>From</th>\n",
       "      <th>To</th>\n",
       "      <th>House</th>\n",
       "      <th>Term</th>\n",
       "      <th>Session</th>\n",
       "      <th>Meeting</th>\n",
       "      <th>Sitting</th>\n",
       "      <th>...</th>\n",
       "      <th>Speaker_role</th>\n",
       "      <th>Speaker_type</th>\n",
       "      <th>Speaker_party</th>\n",
       "      <th>Speaker_party_name</th>\n",
       "      <th>Party_status</th>\n",
       "      <th>Speaker_name</th>\n",
       "      <th>Speaker_gender</th>\n",
       "      <th>Speaker_birth</th>\n",
       "      <th>Codemp</th>\n",
       "      <th>Codeparty</th>\n",
       "    </tr>\n",
       "  </thead>\n",
       "  <tbody>\n",
       "    <tr>\n",
       "      <th>0</th>\n",
       "      <td>ParlaMint-HR_T6.S1.u1</td>\n",
       "      <td>Cijenjene gospođe i gospodo. Pripala mi je čas...</td>\n",
       "      <td>Minutes of the National Assembly of the Republ...</td>\n",
       "      <td>2008-01-11</td>\n",
       "      <td>2008-01-11</td>\n",
       "      <td>NaN</td>\n",
       "      <td>6</td>\n",
       "      <td>1</td>\n",
       "      <td>-</td>\n",
       "      <td>NaN</td>\n",
       "      <td>...</td>\n",
       "      <td>Chairperson</td>\n",
       "      <td>MP</td>\n",
       "      <td>HDZ</td>\n",
       "      <td>Hrvatska demokratska zajednica</td>\n",
       "      <td>Coalition</td>\n",
       "      <td>Šeks, Vladimir</td>\n",
       "      <td>M</td>\n",
       "      <td>1943.0</td>\n",
       "      <td>M638</td>\n",
       "      <td>P19</td>\n",
       "    </tr>\n",
       "    <tr>\n",
       "      <th>1</th>\n",
       "      <td>ParlaMint-HR_T6.S1.u2</td>\n",
       "      <td>Gospodine predsjedatelju, gospodine predsjedni...</td>\n",
       "      <td>Minutes of the National Assembly of the Republ...</td>\n",
       "      <td>2008-01-11</td>\n",
       "      <td>2008-01-11</td>\n",
       "      <td>NaN</td>\n",
       "      <td>6</td>\n",
       "      <td>1</td>\n",
       "      <td>-</td>\n",
       "      <td>NaN</td>\n",
       "      <td>...</td>\n",
       "      <td>Regular</td>\n",
       "      <td>MP</td>\n",
       "      <td>HDZ</td>\n",
       "      <td>Hrvatska demokratska zajednica</td>\n",
       "      <td>Coalition</td>\n",
       "      <td>Bebić, Luka</td>\n",
       "      <td>M</td>\n",
       "      <td>1937.0</td>\n",
       "      <td>M366</td>\n",
       "      <td>P19</td>\n",
       "    </tr>\n",
       "  </tbody>\n",
       "</table>\n",
       "<p>2 rows × 22 columns</p>\n",
       "</div>"
      ],
      "text/plain": [
       "                      ID                                               Text  \\\n",
       "0  ParlaMint-HR_T6.S1.u1  Cijenjene gospođe i gospodo. Pripala mi je čas...   \n",
       "1  ParlaMint-HR_T6.S1.u2  Gospodine predsjedatelju, gospodine predsjedni...   \n",
       "\n",
       "                                               Title        From          To  \\\n",
       "0  Minutes of the National Assembly of the Republ...  2008-01-11  2008-01-11   \n",
       "1  Minutes of the National Assembly of the Republ...  2008-01-11  2008-01-11   \n",
       "\n",
       "   House  Term  Session Meeting  Sitting  ... Speaker_role Speaker_type  \\\n",
       "0    NaN     6        1       -      NaN  ...  Chairperson           MP   \n",
       "1    NaN     6        1       -      NaN  ...      Regular           MP   \n",
       "\n",
       "  Speaker_party              Speaker_party_name Party_status    Speaker_name  \\\n",
       "0           HDZ  Hrvatska demokratska zajednica    Coalition  Šeks, Vladimir   \n",
       "1           HDZ  Hrvatska demokratska zajednica    Coalition     Bebić, Luka   \n",
       "\n",
       "  Speaker_gender Speaker_birth Codemp  Codeparty  \n",
       "0              M        1943.0   M638        P19  \n",
       "1              M        1937.0   M366        P19  \n",
       "\n",
       "[2 rows x 22 columns]"
      ]
     },
     "execution_count": 26,
     "metadata": {},
     "output_type": "execute_result"
    }
   ],
   "source": [
    "tm = textdf.merge(metadf, on =\"ID\", how=\"left\")\n",
    "tm.head(2)"
   ]
  },
  {
   "cell_type": "code",
   "execution_count": 35,
   "metadata": {},
   "outputs": [
    {
     "data": {
      "text/plain": [
       "array([nan])"
      ]
     },
     "execution_count": 35,
     "metadata": {},
     "output_type": "execute_result"
    }
   ],
   "source": [
    "tm.Sitting.unique()"
   ]
  },
  {
   "cell_type": "code",
   "execution_count": null,
   "metadata": {},
   "outputs": [],
   "source": []
  }
 ],
 "metadata": {
  "kernelspec": {
   "display_name": "base",
   "language": "python",
   "name": "python3"
  },
  "language_info": {
   "codemirror_mode": {
    "name": "ipython",
    "version": 3
   },
   "file_extension": ".py",
   "mimetype": "text/x-python",
   "name": "python",
   "nbconvert_exporter": "python",
   "pygments_lexer": "ipython3",
   "version": "3.9.12"
  },
  "orig_nbformat": 4,
  "vscode": {
   "interpreter": {
    "hash": "7f6f5766036ee03d059e365a942add07f79c17033585e9357ee8157d52fe6bb9"
   }
  }
 },
 "nbformat": 4,
 "nbformat_minor": 2
}
